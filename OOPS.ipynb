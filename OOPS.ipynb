{
 "cells": [
  {
   "cell_type": "markdown",
   "id": "d8393c0a",
   "metadata": {},
   "source": [
    "# Object Oriented Programming"
   ]
  },
  {
   "cell_type": "code",
   "execution_count": 1,
   "id": "e40248af",
   "metadata": {},
   "outputs": [],
   "source": [
    "mylist = [1,2,3]"
   ]
  },
  {
   "cell_type": "code",
   "execution_count": 2,
   "id": "a701c5fd",
   "metadata": {},
   "outputs": [],
   "source": [
    "myset = set()"
   ]
  },
  {
   "cell_type": "code",
   "execution_count": 3,
   "id": "ec620bfb",
   "metadata": {},
   "outputs": [
    {
     "data": {
      "text/plain": [
       "set"
      ]
     },
     "execution_count": 3,
     "metadata": {},
     "output_type": "execute_result"
    }
   ],
   "source": [
    "type(myset)"
   ]
  },
  {
   "cell_type": "code",
   "execution_count": 4,
   "id": "a2e95e1e",
   "metadata": {},
   "outputs": [
    {
     "data": {
      "text/plain": [
       "list"
      ]
     },
     "execution_count": 4,
     "metadata": {},
     "output_type": "execute_result"
    }
   ],
   "source": [
    "type(mylist)"
   ]
  },
  {
   "cell_type": "code",
   "execution_count": 5,
   "id": "a884d60f",
   "metadata": {},
   "outputs": [],
   "source": [
    "class Sample():\n",
    "    pass"
   ]
  },
  {
   "cell_type": "code",
   "execution_count": 7,
   "id": "5645569e",
   "metadata": {},
   "outputs": [],
   "source": [
    "my_sample=Sample()"
   ]
  },
  {
   "cell_type": "code",
   "execution_count": 8,
   "id": "3dfd80b8",
   "metadata": {},
   "outputs": [
    {
     "data": {
      "text/plain": [
       "__main__.Sample"
      ]
     },
     "execution_count": 8,
     "metadata": {},
     "output_type": "execute_result"
    }
   ],
   "source": [
    "#Here type is of sample type\n",
    "\n",
    "type(my_sample)"
   ]
  },
  {
   "cell_type": "code",
   "execution_count": 9,
   "id": "aaa81f0a",
   "metadata": {},
   "outputs": [],
   "source": [
    "class Dog():\n",
    "    \n",
    "    def __init__(self,breed):\n",
    "        \n",
    "        self.breed = breed"
   ]
  },
  {
   "cell_type": "code",
   "execution_count": 10,
   "id": "5e8260f9",
   "metadata": {},
   "outputs": [],
   "source": [
    "my_dog = Dog(breed = 'pug')"
   ]
  },
  {
   "cell_type": "code",
   "execution_count": 11,
   "id": "ad1d37d5",
   "metadata": {},
   "outputs": [
    {
     "data": {
      "text/plain": [
       "__main__.Dog"
      ]
     },
     "execution_count": 11,
     "metadata": {},
     "output_type": "execute_result"
    }
   ],
   "source": [
    "type(my_dog)"
   ]
  },
  {
   "cell_type": "code",
   "execution_count": 12,
   "id": "be5674f8",
   "metadata": {},
   "outputs": [
    {
     "data": {
      "text/plain": [
       "'pug'"
      ]
     },
     "execution_count": 12,
     "metadata": {},
     "output_type": "execute_result"
    }
   ],
   "source": [
    "my_dog.breed"
   ]
  },
  {
   "cell_type": "code",
   "execution_count": null,
   "id": "1c379280",
   "metadata": {},
   "outputs": [],
   "source": []
  }
 ],
 "metadata": {
  "kernelspec": {
   "display_name": "Python 3 (ipykernel)",
   "language": "python",
   "name": "python3"
  },
  "language_info": {
   "codemirror_mode": {
    "name": "ipython",
    "version": 3
   },
   "file_extension": ".py",
   "mimetype": "text/x-python",
   "name": "python",
   "nbconvert_exporter": "python",
   "pygments_lexer": "ipython3",
   "version": "3.9.12"
  }
 },
 "nbformat": 4,
 "nbformat_minor": 5
}
