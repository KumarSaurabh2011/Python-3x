{
 "cells": [
  {
   "cell_type": "markdown",
   "id": "d8393c0a",
   "metadata": {},
   "source": [
    "# Object Oriented Programming"
   ]
  },
  {
   "cell_type": "code",
   "execution_count": 1,
   "id": "e40248af",
   "metadata": {},
   "outputs": [],
   "source": [
    "mylist = [1,2,3]"
   ]
  },
  {
   "cell_type": "code",
   "execution_count": 2,
   "id": "a701c5fd",
   "metadata": {},
   "outputs": [],
   "source": [
    "myset = set()"
   ]
  },
  {
   "cell_type": "code",
   "execution_count": 3,
   "id": "ec620bfb",
   "metadata": {},
   "outputs": [
    {
     "data": {
      "text/plain": [
       "set"
      ]
     },
     "execution_count": 3,
     "metadata": {},
     "output_type": "execute_result"
    }
   ],
   "source": [
    "type(myset)"
   ]
  },
  {
   "cell_type": "code",
   "execution_count": 4,
   "id": "a2e95e1e",
   "metadata": {},
   "outputs": [
    {
     "data": {
      "text/plain": [
       "list"
      ]
     },
     "execution_count": 4,
     "metadata": {},
     "output_type": "execute_result"
    }
   ],
   "source": [
    "type(mylist)"
   ]
  },
  {
   "cell_type": "code",
   "execution_count": 5,
   "id": "a884d60f",
   "metadata": {},
   "outputs": [],
   "source": [
    "class Sample():\n",
    "    pass"
   ]
  },
  {
   "cell_type": "code",
   "execution_count": 7,
   "id": "5645569e",
   "metadata": {},
   "outputs": [],
   "source": [
    "my_sample=Sample()"
   ]
  },
  {
   "cell_type": "code",
   "execution_count": 8,
   "id": "3dfd80b8",
   "metadata": {},
   "outputs": [
    {
     "data": {
      "text/plain": [
       "__main__.Sample"
      ]
     },
     "execution_count": 8,
     "metadata": {},
     "output_type": "execute_result"
    }
   ],
   "source": [
    "#Here type is of sample type\n",
    "\n",
    "type(my_sample)"
   ]
  },
  {
   "cell_type": "code",
   "execution_count": 9,
   "id": "aaa81f0a",
   "metadata": {},
   "outputs": [],
   "source": [
    "class Dog():\n",
    "    \n",
    "    def __init__(self,breed):\n",
    "        \n",
    "        self.breed = breed"
   ]
  },
  {
   "cell_type": "code",
   "execution_count": 10,
   "id": "5e8260f9",
   "metadata": {},
   "outputs": [],
   "source": [
    "my_dog = Dog(breed = 'pug')"
   ]
  },
  {
   "cell_type": "code",
   "execution_count": 11,
   "id": "ad1d37d5",
   "metadata": {},
   "outputs": [
    {
     "data": {
      "text/plain": [
       "__main__.Dog"
      ]
     },
     "execution_count": 11,
     "metadata": {},
     "output_type": "execute_result"
    }
   ],
   "source": [
    "type(my_dog)"
   ]
  },
  {
   "cell_type": "code",
   "execution_count": 12,
   "id": "be5674f8",
   "metadata": {},
   "outputs": [
    {
     "data": {
      "text/plain": [
       "'pug'"
      ]
     },
     "execution_count": 12,
     "metadata": {},
     "output_type": "execute_result"
    }
   ],
   "source": [
    "my_dog.breed"
   ]
  },
  {
   "cell_type": "code",
   "execution_count": 1,
   "id": "1c379280",
   "metadata": {},
   "outputs": [],
   "source": [
    "class Dog():\n",
    "    \n",
    "    '''Any object of this class will be of a specie- mammal'''\n",
    "    \n",
    "    species = 'mammal' \n",
    "    def __init__(self,breed,name):\n",
    "        \n",
    "        self.breed = breed\n",
    "        self.name = name\n",
    "        \n",
    "    def bark(self):\n",
    "        print('WooF!')"
   ]
  },
  {
   "cell_type": "code",
   "execution_count": 2,
   "id": "94a6badf",
   "metadata": {},
   "outputs": [],
   "source": [
    "my_dog = Dog('Lab','Tiger')"
   ]
  },
  {
   "cell_type": "code",
   "execution_count": 3,
   "id": "0e79736f",
   "metadata": {},
   "outputs": [
    {
     "data": {
      "text/plain": [
       "__main__.Dog"
      ]
     },
     "execution_count": 3,
     "metadata": {},
     "output_type": "execute_result"
    }
   ],
   "source": [
    "type(my_dog)"
   ]
  },
  {
   "cell_type": "code",
   "execution_count": 4,
   "id": "910fcdc0",
   "metadata": {},
   "outputs": [
    {
     "data": {
      "text/plain": [
       "'mammal'"
      ]
     },
     "execution_count": 4,
     "metadata": {},
     "output_type": "execute_result"
    }
   ],
   "source": [
    "my_dog.species"
   ]
  },
  {
   "cell_type": "code",
   "execution_count": 5,
   "id": "1b255b2a",
   "metadata": {},
   "outputs": [
    {
     "data": {
      "text/plain": [
       "'Tiger'"
      ]
     },
     "execution_count": 5,
     "metadata": {},
     "output_type": "execute_result"
    }
   ],
   "source": [
    "my_dog.name"
   ]
  },
  {
   "cell_type": "code",
   "execution_count": 6,
   "id": "931a1847",
   "metadata": {},
   "outputs": [
    {
     "name": "stdout",
     "output_type": "stream",
     "text": [
      "WooF!\n"
     ]
    }
   ],
   "source": [
    "my_dog.bark()"
   ]
  },
  {
   "cell_type": "code",
   "execution_count": 24,
   "id": "ecdfb0df",
   "metadata": {},
   "outputs": [],
   "source": [
    "class Dog():\n",
    "    \n",
    "    '''Any object of this class will be of a specie- mammal'''\n",
    "    \n",
    "    species = 'mammal' \n",
    "    def __init__(self,breed,name):\n",
    "        \n",
    "        self.breed = breed\n",
    "        self.name = name\n",
    "        \n",
    "    def bark(self,number):\n",
    "        print('WooF! My name is {} and my age is {}'.format(self.name,number))"
   ]
  },
  {
   "cell_type": "code",
   "execution_count": 25,
   "id": "923f58d9",
   "metadata": {},
   "outputs": [],
   "source": [
    "my_dog = Dog('Lab','Tiger')"
   ]
  },
  {
   "cell_type": "code",
   "execution_count": 26,
   "id": "f59a8905",
   "metadata": {},
   "outputs": [
    {
     "data": {
      "text/plain": [
       "__main__.Dog"
      ]
     },
     "execution_count": 26,
     "metadata": {},
     "output_type": "execute_result"
    }
   ],
   "source": [
    "type(my_dog)"
   ]
  },
  {
   "cell_type": "code",
   "execution_count": 27,
   "id": "2cb95653",
   "metadata": {},
   "outputs": [
    {
     "name": "stdout",
     "output_type": "stream",
     "text": [
      "WooF! My name is Tiger and my age is 10\n"
     ]
    }
   ],
   "source": [
    "my_dog.bark(10)"
   ]
  },
  {
   "cell_type": "code",
   "execution_count": 40,
   "id": "fc1280a2",
   "metadata": {},
   "outputs": [],
   "source": [
    "class Circle():\n",
    "    \n",
    "    pi = 3.14\n",
    "    \n",
    "    def __init__(self,radius=1):\n",
    "        \n",
    "        self.radius = radius\n",
    "        self.area = radius*radius*self.pi\n",
    "        \n",
    "        \n",
    "    def get_circumference(self):\n",
    "        \n",
    "        return self.radius*2*self.pi"
   ]
  },
  {
   "cell_type": "code",
   "execution_count": 41,
   "id": "69d1442b",
   "metadata": {},
   "outputs": [],
   "source": [
    "my_circle= Circle(30)"
   ]
  },
  {
   "cell_type": "code",
   "execution_count": 42,
   "id": "469a5032",
   "metadata": {},
   "outputs": [
    {
     "data": {
      "text/plain": [
       "3.14"
      ]
     },
     "execution_count": 42,
     "metadata": {},
     "output_type": "execute_result"
    }
   ],
   "source": [
    "my_circle.pi\n"
   ]
  },
  {
   "cell_type": "code",
   "execution_count": 43,
   "id": "a9bdf0e4",
   "metadata": {},
   "outputs": [
    {
     "data": {
      "text/plain": [
       "30"
      ]
     },
     "execution_count": 43,
     "metadata": {},
     "output_type": "execute_result"
    }
   ],
   "source": [
    "my_circle.radius"
   ]
  },
  {
   "cell_type": "code",
   "execution_count": 44,
   "id": "132d3540",
   "metadata": {},
   "outputs": [
    {
     "data": {
      "text/plain": [
       "30"
      ]
     },
     "execution_count": 44,
     "metadata": {},
     "output_type": "execute_result"
    }
   ],
   "source": [
    "my_circle.radius"
   ]
  },
  {
   "cell_type": "code",
   "execution_count": 45,
   "id": "80cdd360",
   "metadata": {},
   "outputs": [
    {
     "data": {
      "text/plain": [
       "188.4"
      ]
     },
     "execution_count": 45,
     "metadata": {},
     "output_type": "execute_result"
    }
   ],
   "source": [
    "my_circle.get_circumference()"
   ]
  },
  {
   "cell_type": "code",
   "execution_count": 46,
   "id": "96c9de84",
   "metadata": {},
   "outputs": [
    {
     "data": {
      "text/plain": [
       "2826.0"
      ]
     },
     "execution_count": 46,
     "metadata": {},
     "output_type": "execute_result"
    }
   ],
   "source": [
    "my_circle.area"
   ]
  },
  {
   "cell_type": "code",
   "execution_count": null,
   "id": "192e3f0a",
   "metadata": {},
   "outputs": [],
   "source": [
    "## Inheritance"
   ]
  },
  {
   "cell_type": "code",
   "execution_count": 50,
   "id": "08fe3612",
   "metadata": {},
   "outputs": [],
   "source": [
    "class Animal():\n",
    "    \n",
    "    def __init__(self):\n",
    "        print('Animal Created')\n",
    "        \n",
    "    def who_am_i(self):\n",
    "        print(\"I am an Animal\")\n",
    "        \n",
    "    def eat(self):\n",
    "        print('I am eating')"
   ]
  },
  {
   "cell_type": "code",
   "execution_count": 51,
   "id": "0f02a039",
   "metadata": {},
   "outputs": [
    {
     "name": "stdout",
     "output_type": "stream",
     "text": [
      "Animal Created\n"
     ]
    }
   ],
   "source": [
    "my_animal = Animal()"
   ]
  },
  {
   "cell_type": "code",
   "execution_count": 52,
   "id": "5e4354ea",
   "metadata": {},
   "outputs": [],
   "source": [
    "class Dog(Animal):\n",
    "    \n",
    "    def __init__(self):\n",
    "        Animal.__init__(self)\n",
    "        print('Dog Created')"
   ]
  },
  {
   "cell_type": "code",
   "execution_count": 56,
   "id": "29d8d0bf",
   "metadata": {},
   "outputs": [
    {
     "name": "stdout",
     "output_type": "stream",
     "text": [
      "Animal Created\n",
      "Dog Created\n"
     ]
    }
   ],
   "source": [
    "my_dog=Dog()"
   ]
  },
  {
   "cell_type": "code",
   "execution_count": 54,
   "id": "780a5e80",
   "metadata": {},
   "outputs": [],
   "source": [
    "class Dog(Animal):\n",
    "    \n",
    "    def __init__(self):\n",
    "        Animal.__init__(self)\n",
    "        print('Dog Created')\n",
    "        \n",
    "    def who_am_i(self):\n",
    "        print('I am a dog')"
   ]
  },
  {
   "cell_type": "code",
   "execution_count": 57,
   "id": "31682f51",
   "metadata": {},
   "outputs": [
    {
     "name": "stdout",
     "output_type": "stream",
     "text": [
      "Animal Created\n",
      "Dog Created\n"
     ]
    }
   ],
   "source": [
    "my_dog=Dog()"
   ]
  },
  {
   "cell_type": "code",
   "execution_count": 58,
   "id": "e5128b35",
   "metadata": {},
   "outputs": [
    {
     "name": "stdout",
     "output_type": "stream",
     "text": [
      "I am a dog\n"
     ]
    }
   ],
   "source": [
    "my_dog.who_am_i()"
   ]
  },
  {
   "cell_type": "code",
   "execution_count": null,
   "id": "1b1444e3",
   "metadata": {},
   "outputs": [],
   "source": [
    "## Polymorphism"
   ]
  },
  {
   "cell_type": "code",
   "execution_count": 62,
   "id": "373185c6",
   "metadata": {},
   "outputs": [],
   "source": [
    "class Dog():\n",
    "    \n",
    "    def __init__(self,name):\n",
    "        self.name = name\n",
    "        \n",
    "    def speak(self):\n",
    "        \n",
    "        return self.name + \" Says WOOF!\""
   ]
  },
  {
   "cell_type": "code",
   "execution_count": 63,
   "id": "33e205e3",
   "metadata": {},
   "outputs": [],
   "source": [
    "class Cat():\n",
    "    \n",
    "    def __init__(self,name):\n",
    "        self.name = name\n",
    "        \n",
    "    def speak(self):\n",
    "        \n",
    "        return self.name + \" Says Meow!\""
   ]
  },
  {
   "cell_type": "code",
   "execution_count": 64,
   "id": "e4b5db2c",
   "metadata": {},
   "outputs": [],
   "source": [
    "niko = Dog('niko')"
   ]
  },
  {
   "cell_type": "code",
   "execution_count": 65,
   "id": "2f9ca167",
   "metadata": {},
   "outputs": [],
   "source": [
    "felix = Cat('felix')"
   ]
  },
  {
   "cell_type": "code",
   "execution_count": 66,
   "id": "d49e3b41",
   "metadata": {},
   "outputs": [
    {
     "name": "stdout",
     "output_type": "stream",
     "text": [
      "niko Says WOOF!\n"
     ]
    }
   ],
   "source": [
    "print(niko.speak())"
   ]
  },
  {
   "cell_type": "code",
   "execution_count": 67,
   "id": "24158f2d",
   "metadata": {},
   "outputs": [
    {
     "name": "stdout",
     "output_type": "stream",
     "text": [
      "felix Says Meow!\n"
     ]
    }
   ],
   "source": [
    "print(felix.speak())"
   ]
  },
  {
   "cell_type": "code",
   "execution_count": 68,
   "id": "11d76823",
   "metadata": {},
   "outputs": [
    {
     "name": "stdout",
     "output_type": "stream",
     "text": [
      "<class '__main__.Dog'>\n",
      "niko Says WOOF!\n",
      "<class '__main__.Cat'>\n",
      "felix Says Meow!\n"
     ]
    }
   ],
   "source": [
    "for pet in [niko,felix]:\n",
    "    print(type(pet))\n",
    "    print(pet.speak())"
   ]
  },
  {
   "cell_type": "code",
   "execution_count": 69,
   "id": "b861b648",
   "metadata": {},
   "outputs": [],
   "source": [
    "def pet_speak(pet):\n",
    "    print(pet.speak())"
   ]
  },
  {
   "cell_type": "code",
   "execution_count": 70,
   "id": "65e76847",
   "metadata": {},
   "outputs": [
    {
     "name": "stdout",
     "output_type": "stream",
     "text": [
      "niko Says WOOF!\n"
     ]
    }
   ],
   "source": [
    "pet_speak(niko)"
   ]
  },
  {
   "cell_type": "code",
   "execution_count": 71,
   "id": "5f905ec5",
   "metadata": {},
   "outputs": [
    {
     "name": "stdout",
     "output_type": "stream",
     "text": [
      "felix Says Meow!\n"
     ]
    }
   ],
   "source": [
    "pet_speak(felix)"
   ]
  },
  {
   "cell_type": "code",
   "execution_count": null,
   "id": "cb2f4628",
   "metadata": {},
   "outputs": [],
   "source": [
    "## Abstract Class"
   ]
  },
  {
   "cell_type": "code",
   "execution_count": 72,
   "id": "143eecc8",
   "metadata": {},
   "outputs": [],
   "source": [
    "class Animal():\n",
    "    \n",
    "    def __init__ (self,name):\n",
    "        self.name=name\n",
    "        \n",
    "    def speak(self):\n",
    "        raise NotImplementedError(\"Subclass must implement this abstract method\")\n",
    "        \n",
    "        "
   ]
  },
  {
   "cell_type": "code",
   "execution_count": 73,
   "id": "b53db0df",
   "metadata": {},
   "outputs": [],
   "source": [
    "myanimal=Animal('fred')"
   ]
  },
  {
   "cell_type": "code",
   "execution_count": 74,
   "id": "e53985fe",
   "metadata": {},
   "outputs": [
    {
     "ename": "NotImplementedError",
     "evalue": "Subclass must implement this abstract method",
     "output_type": "error",
     "traceback": [
      "\u001b[0;31m---------------------------------------------------------------------------\u001b[0m",
      "\u001b[0;31mNotImplementedError\u001b[0m                       Traceback (most recent call last)",
      "Input \u001b[0;32mIn [74]\u001b[0m, in \u001b[0;36m<cell line: 1>\u001b[0;34m()\u001b[0m\n\u001b[0;32m----> 1\u001b[0m \u001b[43mmyanimal\u001b[49m\u001b[38;5;241;43m.\u001b[39;49m\u001b[43mspeak\u001b[49m\u001b[43m(\u001b[49m\u001b[43m)\u001b[49m\n",
      "Input \u001b[0;32mIn [72]\u001b[0m, in \u001b[0;36mAnimal.speak\u001b[0;34m(self)\u001b[0m\n\u001b[1;32m      6\u001b[0m \u001b[38;5;28;01mdef\u001b[39;00m \u001b[38;5;21mspeak\u001b[39m(\u001b[38;5;28mself\u001b[39m):\n\u001b[0;32m----> 7\u001b[0m     \u001b[38;5;28;01mraise\u001b[39;00m \u001b[38;5;167;01mNotImplementedError\u001b[39;00m(\u001b[38;5;124m\"\u001b[39m\u001b[38;5;124mSubclass must implement this abstract method\u001b[39m\u001b[38;5;124m\"\u001b[39m)\n",
      "\u001b[0;31mNotImplementedError\u001b[0m: Subclass must implement this abstract method"
     ]
    }
   ],
   "source": [
    "myanimal.speak()"
   ]
  },
  {
   "cell_type": "code",
   "execution_count": 84,
   "id": "a0726272",
   "metadata": {},
   "outputs": [],
   "source": [
    "class Dog(Animal):\n",
    "    \n",
    "    def speak(self):\n",
    "        return self.name+ \" says woof\""
   ]
  },
  {
   "cell_type": "code",
   "execution_count": 85,
   "id": "0ea69264",
   "metadata": {},
   "outputs": [],
   "source": [
    "class Cat(Animal):\n",
    "    \n",
    "    def speak(self):\n",
    "        return self.name+ \" says meow\""
   ]
  },
  {
   "cell_type": "code",
   "execution_count": 86,
   "id": "fadc0f65",
   "metadata": {},
   "outputs": [],
   "source": [
    "fido = Dog('fido')"
   ]
  },
  {
   "cell_type": "code",
   "execution_count": 87,
   "id": "8b0fcac3",
   "metadata": {},
   "outputs": [],
   "source": [
    "iss = Cat('meow')"
   ]
  },
  {
   "cell_type": "code",
   "execution_count": 88,
   "id": "9e85fc66",
   "metadata": {},
   "outputs": [
    {
     "name": "stdout",
     "output_type": "stream",
     "text": [
      "fido says woof\n"
     ]
    }
   ],
   "source": [
    "print(fido.speak())"
   ]
  },
  {
   "cell_type": "code",
   "execution_count": 89,
   "id": "9afd6084",
   "metadata": {},
   "outputs": [
    {
     "name": "stdout",
     "output_type": "stream",
     "text": [
      "meow says meow\n"
     ]
    }
   ],
   "source": [
    "print(iss.speak())"
   ]
  },
  {
   "cell_type": "code",
   "execution_count": null,
   "id": "77669620",
   "metadata": {},
   "outputs": [],
   "source": [
    "## Special Methods"
   ]
  },
  {
   "cell_type": "code",
   "execution_count": 107,
   "id": "3c6ffd6c",
   "metadata": {},
   "outputs": [],
   "source": [
    "class Book():\n",
    "    \n",
    "    def __init__(self,title,author,pages):\n",
    "        \n",
    "        self.title = title\n",
    "        self.author = author\n",
    "        self.pages = pages\n",
    "        \n"
   ]
  },
  {
   "cell_type": "code",
   "execution_count": 108,
   "id": "3f4a2860",
   "metadata": {},
   "outputs": [],
   "source": [
    "b = Book('python rocks','jose',200)"
   ]
  },
  {
   "cell_type": "code",
   "execution_count": 109,
   "id": "14017016",
   "metadata": {},
   "outputs": [
    {
     "name": "stdout",
     "output_type": "stream",
     "text": [
      "<__main__.Book object at 0x11238d460>\n"
     ]
    }
   ],
   "source": [
    "print(b)"
   ]
  },
  {
   "cell_type": "code",
   "execution_count": 110,
   "id": "bd56afc5",
   "metadata": {},
   "outputs": [
    {
     "data": {
      "text/plain": [
       "'<__main__.Book object at 0x11238d460>'"
      ]
     },
     "execution_count": 110,
     "metadata": {},
     "output_type": "execute_result"
    }
   ],
   "source": [
    "str(b)"
   ]
  },
  {
   "cell_type": "code",
   "execution_count": 111,
   "id": "34762617",
   "metadata": {},
   "outputs": [],
   "source": [
    "class Book():\n",
    "    \n",
    "    def __init__(self,title,author,pages):\n",
    "        \n",
    "        self.title = title\n",
    "        self.author = author\n",
    "        self.pages = pages\n",
    "        \n",
    "       '''special method str'''\n",
    "    \n",
    "    def __str__(self): \n",
    "        return f\"{self.title} by {self.author}\""
   ]
  },
  {
   "cell_type": "code",
   "execution_count": 113,
   "id": "b4107a64",
   "metadata": {},
   "outputs": [],
   "source": [
    "b = Book('python rocks','jose',200)"
   ]
  },
  {
   "cell_type": "code",
   "execution_count": 114,
   "id": "0fc1c678",
   "metadata": {},
   "outputs": [
    {
     "name": "stdout",
     "output_type": "stream",
     "text": [
      "python rocks by jose\n"
     ]
    }
   ],
   "source": [
    "print(b)"
   ]
  },
  {
   "cell_type": "code",
   "execution_count": null,
   "id": "2d51f99f",
   "metadata": {},
   "outputs": [],
   "source": []
  }
 ],
 "metadata": {
  "kernelspec": {
   "display_name": "Python 3 (ipykernel)",
   "language": "python",
   "name": "python3"
  },
  "language_info": {
   "codemirror_mode": {
    "name": "ipython",
    "version": 3
   },
   "file_extension": ".py",
   "mimetype": "text/x-python",
   "name": "python",
   "nbconvert_exporter": "python",
   "pygments_lexer": "ipython3",
   "version": "3.9.12"
  }
 },
 "nbformat": 4,
 "nbformat_minor": 5
}
